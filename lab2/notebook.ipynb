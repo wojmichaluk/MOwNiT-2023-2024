{
 "cells": [
  {
   "cell_type": "markdown",
   "id": "adbf25e2",
   "metadata": {},
   "source": [
    "### Biblioteki używane w rozwiązaniu zadania"
   ]
  },
  {
   "cell_type": "code",
   "execution_count": 1,
   "id": "848c7987",
   "metadata": {},
   "outputs": [],
   "source": [
    "import numpy as np\n",
    "import pandas as pd\n",
    "import matplotlib.pyplot as plt\n",
    "import itertools"
   ]
  },
  {
   "cell_type": "markdown",
   "id": "0abca3a8",
   "metadata": {},
   "source": [
    "# Zadanie"
   ]
  },
  {
   "cell_type": "markdown",
   "id": "61b9815a",
   "metadata": {},
   "source": [
    "## Czynności przygotowawcze"
   ]
  },
  {
   "cell_type": "markdown",
   "id": "63d030a3",
   "metadata": {},
   "source": [
    "Najpierw wczytujemy dane z plików."
   ]
  },
  {
   "cell_type": "code",
   "execution_count": 2,
   "id": "aa246ff2",
   "metadata": {},
   "outputs": [],
   "source": [
    "# labels (column names)\n",
    "column_names = pd.io.parsers.read_csv(\"materials/dataset/breast-cancer.labels\", header = None)\n",
    "column_names = list(itertools.chain.from_iterable(column_names.values.tolist()))\n",
    "\n",
    "# training data\n",
    "training_set = pd.io.parsers.read_csv(\"materials/dataset/breast-cancer-train.dat\", header = None, names = column_names)\n",
    "\n",
    "# validating set\n",
    "validate_set = pd.io.parsers.read_csv(\"materials/dataset/breast-cancer-validate.dat\", header = None, names = column_names)"
   ]
  },
  {
   "cell_type": "markdown",
   "id": "ac437a61",
   "metadata": {},
   "source": [
    "Zobaczmy, jak wyglądają dane treningowe."
   ]
  },
  {
   "cell_type": "code",
   "execution_count": 3,
   "id": "2655e700",
   "metadata": {
    "scrolled": false
   },
   "outputs": [
    {
     "data": {
      "text/html": [
       "<div>\n",
       "<style scoped>\n",
       "    .dataframe tbody tr th:only-of-type {\n",
       "        vertical-align: middle;\n",
       "    }\n",
       "\n",
       "    .dataframe tbody tr th {\n",
       "        vertical-align: top;\n",
       "    }\n",
       "\n",
       "    .dataframe thead th {\n",
       "        text-align: right;\n",
       "    }\n",
       "</style>\n",
       "<table border=\"1\" class=\"dataframe\">\n",
       "  <thead>\n",
       "    <tr style=\"text-align: right;\">\n",
       "      <th></th>\n",
       "      <th>patient ID</th>\n",
       "      <th>Malignant/Benign</th>\n",
       "      <th>radius (mean)</th>\n",
       "      <th>texture (mean)</th>\n",
       "      <th>perimeter (mean)</th>\n",
       "      <th>area (mean)</th>\n",
       "      <th>smoothness (mean)</th>\n",
       "      <th>compactness (mean)</th>\n",
       "      <th>concavity (mean)</th>\n",
       "      <th>concave points (mean)</th>\n",
       "      <th>...</th>\n",
       "      <th>radius (worst)</th>\n",
       "      <th>texture (worst)</th>\n",
       "      <th>perimeter (worst)</th>\n",
       "      <th>area (worst)</th>\n",
       "      <th>smoothness (worst)</th>\n",
       "      <th>compactness (worst)</th>\n",
       "      <th>concavity (worst)</th>\n",
       "      <th>concave points (worst)</th>\n",
       "      <th>symmetry (worst)</th>\n",
       "      <th>fractal dimension (worst)</th>\n",
       "    </tr>\n",
       "  </thead>\n",
       "  <tbody>\n",
       "    <tr>\n",
       "      <th>0</th>\n",
       "      <td>842302</td>\n",
       "      <td>M</td>\n",
       "      <td>17.99</td>\n",
       "      <td>10.38</td>\n",
       "      <td>122.80</td>\n",
       "      <td>1001.0</td>\n",
       "      <td>0.11840</td>\n",
       "      <td>0.27760</td>\n",
       "      <td>0.30010</td>\n",
       "      <td>0.14710</td>\n",
       "      <td>...</td>\n",
       "      <td>25.38</td>\n",
       "      <td>17.33</td>\n",
       "      <td>184.60</td>\n",
       "      <td>2019.0</td>\n",
       "      <td>0.16220</td>\n",
       "      <td>0.66560</td>\n",
       "      <td>0.71190</td>\n",
       "      <td>0.26540</td>\n",
       "      <td>0.4601</td>\n",
       "      <td>0.11890</td>\n",
       "    </tr>\n",
       "    <tr>\n",
       "      <th>1</th>\n",
       "      <td>842517</td>\n",
       "      <td>M</td>\n",
       "      <td>20.57</td>\n",
       "      <td>17.77</td>\n",
       "      <td>132.90</td>\n",
       "      <td>1326.0</td>\n",
       "      <td>0.08474</td>\n",
       "      <td>0.07864</td>\n",
       "      <td>0.08690</td>\n",
       "      <td>0.07017</td>\n",
       "      <td>...</td>\n",
       "      <td>24.99</td>\n",
       "      <td>23.41</td>\n",
       "      <td>158.80</td>\n",
       "      <td>1956.0</td>\n",
       "      <td>0.12380</td>\n",
       "      <td>0.18660</td>\n",
       "      <td>0.24160</td>\n",
       "      <td>0.18600</td>\n",
       "      <td>0.2750</td>\n",
       "      <td>0.08902</td>\n",
       "    </tr>\n",
       "    <tr>\n",
       "      <th>2</th>\n",
       "      <td>84300903</td>\n",
       "      <td>M</td>\n",
       "      <td>19.69</td>\n",
       "      <td>21.25</td>\n",
       "      <td>130.00</td>\n",
       "      <td>1203.0</td>\n",
       "      <td>0.10960</td>\n",
       "      <td>0.15990</td>\n",
       "      <td>0.19740</td>\n",
       "      <td>0.12790</td>\n",
       "      <td>...</td>\n",
       "      <td>23.57</td>\n",
       "      <td>25.53</td>\n",
       "      <td>152.50</td>\n",
       "      <td>1709.0</td>\n",
       "      <td>0.14440</td>\n",
       "      <td>0.42450</td>\n",
       "      <td>0.45040</td>\n",
       "      <td>0.24300</td>\n",
       "      <td>0.3613</td>\n",
       "      <td>0.08758</td>\n",
       "    </tr>\n",
       "    <tr>\n",
       "      <th>3</th>\n",
       "      <td>84348301</td>\n",
       "      <td>M</td>\n",
       "      <td>11.42</td>\n",
       "      <td>20.38</td>\n",
       "      <td>77.58</td>\n",
       "      <td>386.1</td>\n",
       "      <td>0.14250</td>\n",
       "      <td>0.28390</td>\n",
       "      <td>0.24140</td>\n",
       "      <td>0.10520</td>\n",
       "      <td>...</td>\n",
       "      <td>14.91</td>\n",
       "      <td>26.50</td>\n",
       "      <td>98.87</td>\n",
       "      <td>567.7</td>\n",
       "      <td>0.20980</td>\n",
       "      <td>0.86630</td>\n",
       "      <td>0.68690</td>\n",
       "      <td>0.25750</td>\n",
       "      <td>0.6638</td>\n",
       "      <td>0.17300</td>\n",
       "    </tr>\n",
       "    <tr>\n",
       "      <th>4</th>\n",
       "      <td>84358402</td>\n",
       "      <td>M</td>\n",
       "      <td>20.29</td>\n",
       "      <td>14.34</td>\n",
       "      <td>135.10</td>\n",
       "      <td>1297.0</td>\n",
       "      <td>0.10030</td>\n",
       "      <td>0.13280</td>\n",
       "      <td>0.19800</td>\n",
       "      <td>0.10430</td>\n",
       "      <td>...</td>\n",
       "      <td>22.54</td>\n",
       "      <td>16.67</td>\n",
       "      <td>152.20</td>\n",
       "      <td>1575.0</td>\n",
       "      <td>0.13740</td>\n",
       "      <td>0.20500</td>\n",
       "      <td>0.40000</td>\n",
       "      <td>0.16250</td>\n",
       "      <td>0.2364</td>\n",
       "      <td>0.07678</td>\n",
       "    </tr>\n",
       "    <tr>\n",
       "      <th>...</th>\n",
       "      <td>...</td>\n",
       "      <td>...</td>\n",
       "      <td>...</td>\n",
       "      <td>...</td>\n",
       "      <td>...</td>\n",
       "      <td>...</td>\n",
       "      <td>...</td>\n",
       "      <td>...</td>\n",
       "      <td>...</td>\n",
       "      <td>...</td>\n",
       "      <td>...</td>\n",
       "      <td>...</td>\n",
       "      <td>...</td>\n",
       "      <td>...</td>\n",
       "      <td>...</td>\n",
       "      <td>...</td>\n",
       "      <td>...</td>\n",
       "      <td>...</td>\n",
       "      <td>...</td>\n",
       "      <td>...</td>\n",
       "      <td>...</td>\n",
       "    </tr>\n",
       "    <tr>\n",
       "      <th>295</th>\n",
       "      <td>891923</td>\n",
       "      <td>B</td>\n",
       "      <td>13.77</td>\n",
       "      <td>13.27</td>\n",
       "      <td>88.06</td>\n",
       "      <td>582.7</td>\n",
       "      <td>0.09198</td>\n",
       "      <td>0.06221</td>\n",
       "      <td>0.01063</td>\n",
       "      <td>0.01917</td>\n",
       "      <td>...</td>\n",
       "      <td>14.67</td>\n",
       "      <td>16.93</td>\n",
       "      <td>94.17</td>\n",
       "      <td>661.1</td>\n",
       "      <td>0.11700</td>\n",
       "      <td>0.10720</td>\n",
       "      <td>0.03732</td>\n",
       "      <td>0.05802</td>\n",
       "      <td>0.2823</td>\n",
       "      <td>0.06794</td>\n",
       "    </tr>\n",
       "    <tr>\n",
       "      <th>296</th>\n",
       "      <td>891936</td>\n",
       "      <td>B</td>\n",
       "      <td>10.91</td>\n",
       "      <td>12.35</td>\n",
       "      <td>69.14</td>\n",
       "      <td>363.7</td>\n",
       "      <td>0.08518</td>\n",
       "      <td>0.04721</td>\n",
       "      <td>0.01236</td>\n",
       "      <td>0.01369</td>\n",
       "      <td>...</td>\n",
       "      <td>11.37</td>\n",
       "      <td>14.82</td>\n",
       "      <td>72.42</td>\n",
       "      <td>392.2</td>\n",
       "      <td>0.09312</td>\n",
       "      <td>0.07506</td>\n",
       "      <td>0.02884</td>\n",
       "      <td>0.03194</td>\n",
       "      <td>0.2143</td>\n",
       "      <td>0.06643</td>\n",
       "    </tr>\n",
       "    <tr>\n",
       "      <th>297</th>\n",
       "      <td>892189</td>\n",
       "      <td>M</td>\n",
       "      <td>11.76</td>\n",
       "      <td>18.14</td>\n",
       "      <td>75.00</td>\n",
       "      <td>431.1</td>\n",
       "      <td>0.09968</td>\n",
       "      <td>0.05914</td>\n",
       "      <td>0.02685</td>\n",
       "      <td>0.03515</td>\n",
       "      <td>...</td>\n",
       "      <td>13.36</td>\n",
       "      <td>23.39</td>\n",
       "      <td>85.10</td>\n",
       "      <td>553.6</td>\n",
       "      <td>0.11370</td>\n",
       "      <td>0.07974</td>\n",
       "      <td>0.06120</td>\n",
       "      <td>0.07160</td>\n",
       "      <td>0.1978</td>\n",
       "      <td>0.06915</td>\n",
       "    </tr>\n",
       "    <tr>\n",
       "      <th>298</th>\n",
       "      <td>892214</td>\n",
       "      <td>B</td>\n",
       "      <td>14.26</td>\n",
       "      <td>18.17</td>\n",
       "      <td>91.22</td>\n",
       "      <td>633.1</td>\n",
       "      <td>0.06576</td>\n",
       "      <td>0.05220</td>\n",
       "      <td>0.02475</td>\n",
       "      <td>0.01374</td>\n",
       "      <td>...</td>\n",
       "      <td>16.22</td>\n",
       "      <td>25.26</td>\n",
       "      <td>105.80</td>\n",
       "      <td>819.7</td>\n",
       "      <td>0.09445</td>\n",
       "      <td>0.21670</td>\n",
       "      <td>0.15650</td>\n",
       "      <td>0.07530</td>\n",
       "      <td>0.2636</td>\n",
       "      <td>0.07676</td>\n",
       "    </tr>\n",
       "    <tr>\n",
       "      <th>299</th>\n",
       "      <td>892399</td>\n",
       "      <td>B</td>\n",
       "      <td>10.51</td>\n",
       "      <td>23.09</td>\n",
       "      <td>66.85</td>\n",
       "      <td>334.2</td>\n",
       "      <td>0.10150</td>\n",
       "      <td>0.06797</td>\n",
       "      <td>0.02495</td>\n",
       "      <td>0.01875</td>\n",
       "      <td>...</td>\n",
       "      <td>10.93</td>\n",
       "      <td>24.22</td>\n",
       "      <td>70.10</td>\n",
       "      <td>362.7</td>\n",
       "      <td>0.11430</td>\n",
       "      <td>0.08614</td>\n",
       "      <td>0.04158</td>\n",
       "      <td>0.03125</td>\n",
       "      <td>0.2227</td>\n",
       "      <td>0.06777</td>\n",
       "    </tr>\n",
       "  </tbody>\n",
       "</table>\n",
       "<p>300 rows × 32 columns</p>\n",
       "</div>"
      ],
      "text/plain": [
       "     patient ID Malignant/Benign  radius (mean)  texture (mean)  \\\n",
       "0        842302                M          17.99           10.38   \n",
       "1        842517                M          20.57           17.77   \n",
       "2      84300903                M          19.69           21.25   \n",
       "3      84348301                M          11.42           20.38   \n",
       "4      84358402                M          20.29           14.34   \n",
       "..          ...              ...            ...             ...   \n",
       "295      891923                B          13.77           13.27   \n",
       "296      891936                B          10.91           12.35   \n",
       "297      892189                M          11.76           18.14   \n",
       "298      892214                B          14.26           18.17   \n",
       "299      892399                B          10.51           23.09   \n",
       "\n",
       "     perimeter (mean)  area (mean)  smoothness (mean)  compactness (mean)  \\\n",
       "0              122.80       1001.0            0.11840             0.27760   \n",
       "1              132.90       1326.0            0.08474             0.07864   \n",
       "2              130.00       1203.0            0.10960             0.15990   \n",
       "3               77.58        386.1            0.14250             0.28390   \n",
       "4              135.10       1297.0            0.10030             0.13280   \n",
       "..                ...          ...                ...                 ...   \n",
       "295             88.06        582.7            0.09198             0.06221   \n",
       "296             69.14        363.7            0.08518             0.04721   \n",
       "297             75.00        431.1            0.09968             0.05914   \n",
       "298             91.22        633.1            0.06576             0.05220   \n",
       "299             66.85        334.2            0.10150             0.06797   \n",
       "\n",
       "     concavity (mean)  concave points (mean)  ...  radius (worst)  \\\n",
       "0             0.30010                0.14710  ...           25.38   \n",
       "1             0.08690                0.07017  ...           24.99   \n",
       "2             0.19740                0.12790  ...           23.57   \n",
       "3             0.24140                0.10520  ...           14.91   \n",
       "4             0.19800                0.10430  ...           22.54   \n",
       "..                ...                    ...  ...             ...   \n",
       "295           0.01063                0.01917  ...           14.67   \n",
       "296           0.01236                0.01369  ...           11.37   \n",
       "297           0.02685                0.03515  ...           13.36   \n",
       "298           0.02475                0.01374  ...           16.22   \n",
       "299           0.02495                0.01875  ...           10.93   \n",
       "\n",
       "     texture (worst)  perimeter (worst)  area (worst)  smoothness (worst)  \\\n",
       "0              17.33             184.60        2019.0             0.16220   \n",
       "1              23.41             158.80        1956.0             0.12380   \n",
       "2              25.53             152.50        1709.0             0.14440   \n",
       "3              26.50              98.87         567.7             0.20980   \n",
       "4              16.67             152.20        1575.0             0.13740   \n",
       "..               ...                ...           ...                 ...   \n",
       "295            16.93              94.17         661.1             0.11700   \n",
       "296            14.82              72.42         392.2             0.09312   \n",
       "297            23.39              85.10         553.6             0.11370   \n",
       "298            25.26             105.80         819.7             0.09445   \n",
       "299            24.22              70.10         362.7             0.11430   \n",
       "\n",
       "     compactness (worst)  concavity (worst)  concave points (worst)  \\\n",
       "0                0.66560            0.71190                 0.26540   \n",
       "1                0.18660            0.24160                 0.18600   \n",
       "2                0.42450            0.45040                 0.24300   \n",
       "3                0.86630            0.68690                 0.25750   \n",
       "4                0.20500            0.40000                 0.16250   \n",
       "..                   ...                ...                     ...   \n",
       "295              0.10720            0.03732                 0.05802   \n",
       "296              0.07506            0.02884                 0.03194   \n",
       "297              0.07974            0.06120                 0.07160   \n",
       "298              0.21670            0.15650                 0.07530   \n",
       "299              0.08614            0.04158                 0.03125   \n",
       "\n",
       "     symmetry (worst)  fractal dimension (worst)  \n",
       "0              0.4601                    0.11890  \n",
       "1              0.2750                    0.08902  \n",
       "2              0.3613                    0.08758  \n",
       "3              0.6638                    0.17300  \n",
       "4              0.2364                    0.07678  \n",
       "..                ...                        ...  \n",
       "295            0.2823                    0.06794  \n",
       "296            0.2143                    0.06643  \n",
       "297            0.1978                    0.06915  \n",
       "298            0.2636                    0.07676  \n",
       "299            0.2227                    0.06777  \n",
       "\n",
       "[300 rows x 32 columns]"
      ]
     },
     "execution_count": 3,
     "metadata": {},
     "output_type": "execute_result"
    }
   ],
   "source": [
    "training_set"
   ]
  },
  {
   "cell_type": "markdown",
   "id": "2a05f247",
   "metadata": {},
   "source": [
    "Teraz wyświetlamy histogram i wykres dla przykładowej kolumny - niech będzie nią średni promień (*radius (mean)*) z danych treningowych."
   ]
  },
  {
   "cell_type": "code",
   "execution_count": 4,
   "id": "92da1102",
   "metadata": {},
   "outputs": [
    {
     "data": {
      "image/png": "[encoded data removed]",
      "text/plain": [
       "<Figure size 640x480 with 1 Axes>"
      ]
     },
     "metadata": {},
     "output_type": "display_data"
    }
   ],
   "source": [
    "fig, axes = plt.subplots()\n",
    "hist = training_set['radius (mean)'].hist(ax = axes, legend = True)\n",
    "plt.suptitle('Histogram for radius value', y = 0.93)\n",
    "fig.text(0.5, 0.03, 'radius value', ha = 'center')\n",
    "fig.text(0.05, 0.5, 'number of patients', va = 'center', rotation = 'vertical')\n",
    "plt.show()"
   ]
  },
  {
   "cell_type": "code",
   "execution_count": 5,
   "id": "ccb599ea",
   "metadata": {},
   "outputs": [
    {
     "data": {
      "image/png": "[encoded data removed]",
      "text/plain": [
       "<Figure size 640x480 with 1 Axes>"
      ]
     },
     "metadata": {},
     "output_type": "display_data"
    }
   ],
   "source": [
    "plot = training_set['radius (mean)'].plot(xlabel = 'patient count', ylabel = 'radius value', title = 'Mean radius value', legend = True, style = 'o')"
   ]
  },
  {
   "cell_type": "markdown",
   "id": "61a74060",
   "metadata": {},
   "source": [
    "## Metoda najmniejszych kwadratów"
   ]
  },
  {
   "cell_type": "markdown",
   "id": "719fe3b8",
   "metadata": {},
   "source": [
    "Poniżej przedstawiamy wszystkie kroki wspólnie zarówno dla liniowej, jak i kwadratowej metody najmniejszych kwadratów.\n",
    "\n",
    "Na początek przygotujemy macierze $A$ dla obu zbiorów - zarówno treningowego, jak i walidującego."
   ]
  },
  {
   "cell_type": "code",
   "execution_count": 6,
   "id": "fea0ea5d",
   "metadata": {},
   "outputs": [],
   "source": [
    "# Linear Representation\n",
    "\n",
    "# A matrix for training data\n",
    "training_set_data = training_set.drop(['patient ID', 'Malignant/Benign'], axis = 1)\n",
    "A_linear_training = training_set_data.values\n",
    "\n",
    "# A matrix for validating set\n",
    "training_set_data = validate_set.drop(['patient ID', 'Malignant/Benign'], axis = 1)\n",
    "A_linear_validate = training_set_data.values "
   ]
  },
  {
   "cell_type": "code",
   "execution_count": 7,
   "id": "f0a19530",
   "metadata": {},
   "outputs": [],
   "source": [
    "# Quadratic Representation Training set\n",
    "\n",
    "training_set_data = training_set[[\"radius (mean)\", \"perimeter (mean)\", \"area (mean)\", \"symmetry (mean)\"]]\n",
    "A_square_training_data = training_set_data.values\n",
    "\n",
    "#intermediate calculations\n",
    "val_1 = A_square_training_data[:, 0][:, np.newaxis] * A_square_training_data[:,1 : 4]\n",
    "val_2 = A_square_training_data[:, 1][:, np.newaxis] * A_square_training_data[:,2 : 4]\n",
    "val_3 = A_square_training_data[:, 2][:, np.newaxis] * A_square_training_data[:,3 : 4]\n",
    "\n",
    "# Stack all the columns horizontally\n",
    "A_square_training = np.hstack((A_square_training_data, A_square_training_data**2, val_1, val_2, val_3))"
   ]
  },
  {
   "cell_type": "code",
   "execution_count": 8,
   "id": "3cc9d83d",
   "metadata": {},
   "outputs": [],
   "source": [
    "# Quadratic Representation Validation set\n",
    "\n",
    "validate_set_data = validate_set[[\"radius (mean)\", \"perimeter (mean)\", \"area (mean)\", \"symmetry (mean)\"]]\n",
    "A_square_validate_data = validate_set_data.values\n",
    "\n",
    "#intermediate calculations\n",
    "val_1 = A_square_validate_data[:, 0][:, np.newaxis] * A_square_validate_data[:,1 : 4]\n",
    "val_2 = A_square_validate_data[:, 1][:, np.newaxis] * A_square_validate_data[:,2 : 4]\n",
    "val_3 = A_square_validate_data[:, 2][:, np.newaxis] * A_square_validate_data[:,3 : 4]\n",
    "\n",
    "# Stack all the columns horizontally\n",
    "A_square_validate = np.hstack((A_square_validate_data, A_square_validate_data**2, val_1, val_2, val_3))"
   ]
  },
  {
   "cell_type": "markdown",
   "id": "a71cd4c5",
   "metadata": {},
   "source": [
    "Teraz przygotujemy dla obu zbiorów wektor $b$. Będzie on używany w obu podejściach, tj. liniowym i kwadratowym."
   ]
  },
  {
   "cell_type": "code",
   "execution_count": 9,
   "id": "8408228e",
   "metadata": {},
   "outputs": [],
   "source": [
    "# b vector for training data\n",
    "b_training = np.array(training_set[['Malignant/Benign']]).flatten()\n",
    "b_training = np.where(b_training == 'M', 1, -1)\n",
    "\n",
    "# b vector for validating set\n",
    "b_validate = np.array(validate_set[['Malignant/Benign']]).flatten()\n",
    "b_validate = np.where(b_validate == 'M', 1, -1)"
   ]
  },
  {
   "cell_type": "markdown",
   "id": "a1bb2a4c",
   "metadata": {},
   "source": [
    "Poniżej znajdujemy wektor wag $w$ dla zbioru treningowego, korzystając z odpowiednich macierzy $A$ oraz wyznaczonego wektora $b$. Dzięki nim znajdziemy rozwiązanie *równania normalnego*."
   ]
  },
  {
   "cell_type": "code",
   "execution_count": 10,
   "id": "812bbf14",
   "metadata": {},
   "outputs": [],
   "source": [
    "# Transposing matrix A_linear_training and calculating weights vector `w_linear`\n",
    "AT_linear = np.transpose(A_linear_training)\n",
    "w_linear = np.linalg.solve(np.dot(AT_linear, A_linear_training), np.dot(AT_linear, b_training))"
   ]
  },
  {
   "cell_type": "code",
   "execution_count": 11,
   "id": "b1d6e352",
   "metadata": {},
   "outputs": [],
   "source": [
    "# Taking the transpose of A_square_training and calculating weights vector `w_square`\n",
    "AT_square = np.transpose(A_square_training)\n",
    "w_square = np.linalg.solve(np.dot(AT_square, A_square_training), np.dot(AT_square, b_training))"
   ]
  },
  {
   "cell_type": "markdown",
   "id": "e2e5d87c",
   "metadata": {},
   "source": [
    "Policzymy teraz współczynnik uwarunkowania macierzy, $cond(A^TA)$ (nie bierzemy samej macierzy $A$ ze względu na sposób rozwiązania). Użyjemy funkcji *np.linalg.norm* (liczenie ze wzoru) oraz *np.linalg.cond*."
   ]
  },
  {
   "cell_type": "code",
   "execution_count": 12,
   "id": "cdd0ae49",
   "metadata": {},
   "outputs": [
    {
     "name": "stdout",
     "output_type": "stream",
     "text": [
      "2078175796647.1704\n",
      "1809248222570.959\n"
     ]
    }
   ],
   "source": [
    "# A matrix transposed multiplied by A matrix, as mentioned above\n",
    "ATA_linear = np.dot(AT_linear, A_linear_training)\n",
    "\n",
    "cond_linear_norm = (np.linalg.norm(ATA_linear) * np.linalg.norm(np.linalg.inv(ATA_linear)))\n",
    "print(cond_linear_norm)\n",
    "cond_linear_cond = np.linalg.cond(ATA_linear)\n",
    "print(cond_linear_cond)"
   ]
  },
  {
   "cell_type": "code",
   "execution_count": 13,
   "id": "d5e4e05f",
   "metadata": {},
   "outputs": [
    {
     "name": "stdout",
     "output_type": "stream",
     "text": [
      "9.257864223346327e+17\n",
      "9.056817074937996e+17\n"
     ]
    }
   ],
   "source": [
    "# Same as in linear case\n",
    "ATA_square = np.dot(AT_square, A_square_training)\n",
    "\n",
    "cond_square_norm = (np.linalg.norm(ATA_square) * np.linalg.norm(np.linalg.inv(ATA_square)))\n",
    "print(cond_square_norm)\n",
    "cond_square_cond = np.linalg.cond(ATA_square)\n",
    "print(cond_square_cond)"
   ]
  },
  {
   "cell_type": "markdown",
   "id": "dff92a19",
   "metadata": {},
   "source": [
    "Teraz sprawdzimy, jak otrzymany dla zbioru treningowego wektor wag $w$ przewiduje typ nowotworu. Korzystając z niego i macierzy $A$ dla zbioru walidującego, tworzymy wektor $p$ i porównujemy go z wektorem $b$ dla zbioru sprawdzającego. Badamy również liczbę przypadków **false positives** i **false negatives**, tzn. kiedy model przewiduje nowotwór złośliwy, gdy w rzeczywistości jest łagodny i vice-versa."
   ]
  },
  {
   "cell_type": "code",
   "execution_count": 14,
   "id": "876e4980",
   "metadata": {},
   "outputs": [
    {
     "data": {
      "text/plain": [
       "array([ True,  True,  True,  True,  True,  True,  True,  True,  True,\n",
       "        True,  True,  True,  True,  True,  True,  True,  True,  True,\n",
       "        True,  True,  True,  True,  True,  True,  True,  True,  True,\n",
       "        True,  True, False,  True,  True,  True,  True,  True,  True,\n",
       "        True,  True,  True,  True,  True,  True,  True,  True,  True,\n",
       "        True,  True, False,  True,  True,  True,  True,  True,  True,\n",
       "        True,  True,  True,  True,  True,  True,  True,  True,  True,\n",
       "        True,  True,  True,  True,  True,  True,  True,  True,  True,\n",
       "        True,  True,  True,  True,  True,  True,  True,  True,  True,\n",
       "        True,  True,  True,  True,  True,  True,  True,  True,  True,\n",
       "        True,  True,  True,  True,  True,  True,  True,  True,  True,\n",
       "        True,  True,  True,  True,  True,  True,  True,  True,  True,\n",
       "        True,  True,  True,  True,  True, False,  True,  True,  True,\n",
       "        True,  True,  True,  True,  True,  True,  True,  True,  True,\n",
       "        True,  True,  True,  True,  True,  True,  True,  True,  True,\n",
       "        True,  True,  True,  True,  True,  True,  True,  True,  True,\n",
       "        True,  True,  True,  True,  True,  True,  True,  True,  True,\n",
       "        True,  True, False,  True,  True,  True,  True,  True,  True,\n",
       "        True,  True,  True, False,  True,  True,  True,  True,  True,\n",
       "       False,  True,  True,  True,  True,  True,  True,  True,  True,\n",
       "        True,  True,  True,  True,  True,  True,  True,  True,  True,\n",
       "        True,  True,  True,  True,  True,  True,  True,  True,  True,\n",
       "        True,  True,  True,  True,  True,  True,  True,  True,  True,\n",
       "        True,  True,  True,  True,  True,  True,  True, False,  True,\n",
       "        True,  True,  True,  True,  True,  True,  True,  True,  True,\n",
       "        True,  True,  True,  True,  True,  True,  True,  True,  True,\n",
       "        True,  True,  True,  True,  True,  True,  True, False,  True,\n",
       "        True,  True,  True,  True,  True,  True,  True,  True,  True,\n",
       "        True,  True,  True,  True,  True,  True,  True,  True])"
      ]
     },
     "execution_count": 14,
     "metadata": {},
     "output_type": "execute_result"
    }
   ],
   "source": [
    "# p vector used to validate prediction of a linear representation\n",
    "p_linear = np.dot(A_linear_validate, w_linear)\n",
    "\n",
    "p_linear_check = np.where(p_linear > 0, 1, -1)\n",
    "p_linear_compare = np.where(p_linear_check == b_validate, True, False)\n",
    "\n",
    "p_linear_false_positives = np.where((p_linear_check == 1) & (b_validate == -1))\n",
    "p_linear_false_negatives = np.where((p_linear_check == -1) & (b_validate == 1))\n",
    "\n",
    "p_linear_compare"
   ]
  },
  {
   "cell_type": "code",
   "execution_count": 15,
   "id": "d059fa06",
   "metadata": {},
   "outputs": [
    {
     "data": {
      "text/plain": [
       "array([ True,  True,  True,  True,  True,  True,  True,  True,  True,\n",
       "        True,  True,  True,  True,  True,  True,  True,  True,  True,\n",
       "        True,  True,  True,  True,  True,  True,  True,  True,  True,\n",
       "        True,  True,  True,  True,  True,  True,  True,  True,  True,\n",
       "        True,  True,  True,  True, False,  True,  True,  True,  True,\n",
       "        True,  True,  True,  True,  True,  True,  True,  True,  True,\n",
       "        True,  True,  True,  True,  True,  True,  True,  True,  True,\n",
       "       False,  True,  True,  True,  True,  True,  True,  True,  True,\n",
       "        True,  True,  True, False,  True,  True,  True, False,  True,\n",
       "        True,  True,  True,  True, False,  True,  True,  True,  True,\n",
       "        True,  True,  True,  True,  True,  True,  True,  True,  True,\n",
       "        True,  True,  True,  True,  True,  True,  True, False,  True,\n",
       "        True,  True,  True,  True,  True, False, False,  True,  True,\n",
       "        True,  True,  True,  True, False,  True, False,  True,  True,\n",
       "        True,  True,  True,  True,  True,  True,  True,  True,  True,\n",
       "       False,  True,  True,  True,  True,  True,  True,  True,  True,\n",
       "        True,  True,  True, False,  True,  True,  True,  True,  True,\n",
       "        True,  True,  True,  True,  True,  True,  True,  True,  True,\n",
       "        True,  True,  True,  True,  True,  True,  True,  True,  True,\n",
       "        True, False,  True,  True,  True,  True,  True,  True,  True,\n",
       "        True,  True,  True,  True, False, False,  True,  True,  True,\n",
       "        True,  True, False,  True,  True,  True,  True,  True,  True,\n",
       "        True,  True, False,  True,  True,  True,  True,  True,  True,\n",
       "        True, False,  True,  True,  True,  True,  True, False,  True,\n",
       "        True,  True,  True,  True,  True,  True,  True,  True,  True,\n",
       "        True,  True,  True,  True,  True,  True,  True,  True,  True,\n",
       "        True,  True,  True,  True,  True,  True,  True, False,  True,\n",
       "        True,  True,  True,  True,  True,  True,  True,  True,  True,\n",
       "        True,  True,  True,  True,  True,  True,  True,  True])"
      ]
     },
     "execution_count": 15,
     "metadata": {},
     "output_type": "execute_result"
    }
   ],
   "source": [
    "# p vector used to validate prediction of a quadratic representation\n",
    "p_square = np.dot(A_square_validate, w_square)\n",
    "\n",
    "p_square_check = np.where(p_square > 0, 1, -1)\n",
    "p_square_compare = np.where(p_square_check == b_validate, True, False)\n",
    "\n",
    "p_square_false_positives = np.where((p_square_check == 1) & (b_validate == -1))\n",
    "p_square_false_negatives = np.where((p_square_check == -1) & (b_validate == 1))\n",
    "\n",
    "p_square_compare"
   ]
  },
  {
   "cell_type": "markdown",
   "id": "1869cc1a",
   "metadata": {},
   "source": [
    "## Wyniki końcowe i analiza"
   ]
  },
  {
   "cell_type": "markdown",
   "id": "38bd3341",
   "metadata": {},
   "source": [
    "Pod koniec patrzymy, ile przypadków zostało zaklasyfikowano poprawnie oraz ile zaobserwowano **false positives** i **false negatives** dla obu reprezentacji."
   ]
  },
  {
   "cell_type": "code",
   "execution_count": 16,
   "id": "a04ed608",
   "metadata": {},
   "outputs": [
    {
     "name": "stdout",
     "output_type": "stream",
     "text": [
      "All patients: 260\n",
      "Correctly recognized: 252\n",
      "False positives: 6\n",
      "False negatives: 2\n"
     ]
    }
   ],
   "source": [
    "print(\"All patients:\", p_linear_compare.size)\n",
    "print(\"Correctly recognized:\", np.where(p_linear_compare)[0].size)\n",
    "print(\"False positives:\", p_linear_false_positives[0].size)\n",
    "print(\"False negatives:\", p_linear_false_negatives[0].size)"
   ]
  },
  {
   "cell_type": "code",
   "execution_count": 17,
   "id": "f92983fc",
   "metadata": {},
   "outputs": [
    {
     "name": "stdout",
     "output_type": "stream",
     "text": [
      "All patients: 260\n",
      "Correctly recognized: 240\n",
      "False positives: 15\n",
      "False negatives: 5\n"
     ]
    }
   ],
   "source": [
    "print(\"All patients:\", p_square_compare.size)\n",
    "print(\"Correctly recognized:\", np.where(p_square_compare)[0].size)\n",
    "print(\"False positives:\", p_square_false_positives[0].size)\n",
    "print(\"False negatives:\", p_square_false_negatives[0].size)"
   ]
  },
  {
   "cell_type": "markdown",
   "id": "e9a4222a",
   "metadata": {},
   "source": [
    "#### Spróbujmy teraz przeprowadzić analizę wyników, które się zgadzają przy obu reprezentacjach."
   ]
  },
  {
   "cell_type": "markdown",
   "id": "dff5ee9f",
   "metadata": {},
   "source": [
    "W tym celu stworzymy `comparison_matrix` - macierz, w której zaliczamy nowotwór do łagodnych tylko wtedy, gdy w obu reprezentacjach zaliczyliśmy go do łagodnych.  "
   ]
  },
  {
   "cell_type": "code",
   "execution_count": 18,
   "id": "5e1f6eee",
   "metadata": {},
   "outputs": [],
   "source": [
    "comparison_matrix = np.where(p_square_check == p_linear_check, p_linear_check, -1)"
   ]
  },
  {
   "cell_type": "code",
   "execution_count": 19,
   "id": "7a15fa6b",
   "metadata": {},
   "outputs": [
    {
     "data": {
      "text/plain": [
       "252"
      ]
     },
     "execution_count": 19,
     "metadata": {},
     "output_type": "execute_result"
    }
   ],
   "source": [
    "np.where(np.where(comparison_matrix == b_validate, True, False))[0].size"
   ]
  },
  {
   "cell_type": "markdown",
   "id": "d2b251f2",
   "metadata": {},
   "source": [
    "Wyniki tego modelu są poprawne w $252/260 \\approx 97\\%$ przypadkach. Pokazuje to, że różnice w działaniu metody liniowej i kwadratowej są niewielkie."
   ]
  },
  {
   "cell_type": "code",
   "execution_count": 20,
   "id": "e33411f6",
   "metadata": {},
   "outputs": [
    {
     "data": {
      "text/plain": [
       "252"
      ]
     },
     "execution_count": 20,
     "metadata": {},
     "output_type": "execute_result"
    }
   ],
   "source": [
    "np.where(np.where(comparison_matrix == b_validate, True, False))[0].size"
   ]
  },
  {
   "cell_type": "code",
   "execution_count": 21,
   "id": "f9445f32",
   "metadata": {},
   "outputs": [],
   "source": [
    "p_comparison_false_positives = np.where((comparison_matrix == 1) & (b_validate == -1))\n",
    "p_comparison_false_negatives = np.where((comparison_matrix == -1) & (b_validate == 1))"
   ]
  },
  {
   "cell_type": "markdown",
   "id": "65e1ad5e",
   "metadata": {},
   "source": [
    "Liczenie **false positives** i **false negatives** w nowym modelu:"
   ]
  },
  {
   "cell_type": "code",
   "execution_count": 22,
   "id": "86f953c6",
   "metadata": {},
   "outputs": [
    {
     "data": {
      "text/plain": [
       "2"
      ]
     },
     "execution_count": 22,
     "metadata": {},
     "output_type": "execute_result"
    }
   ],
   "source": [
    "p_comparison_false_positives[0].size"
   ]
  },
  {
   "cell_type": "code",
   "execution_count": 23,
   "id": "53e0305b",
   "metadata": {},
   "outputs": [
    {
     "data": {
      "text/plain": [
       "6"
      ]
     },
     "execution_count": 23,
     "metadata": {},
     "output_type": "execute_result"
    }
   ],
   "source": [
    "p_comparison_false_negatives[0].size"
   ]
  }
 ],
 "metadata": {
  "kernelspec": {
   "display_name": "Python 3 (ipykernel)",
   "language": "python",
   "name": "python3"
  },
  "language_info": {
   "codemirror_mode": {
    "name": "ipython",
    "version": 3
   },
   "file_extension": ".py",
   "mimetype": "text/x-python",
   "name": "python",
   "nbconvert_exporter": "python",
   "pygments_lexer": "ipython3",
   "version": "3.9.18"
  }
 },
 "nbformat": 4,
 "nbformat_minor": 5
}
